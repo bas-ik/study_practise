{
  "nbformat": 4,
  "nbformat_minor": 0,
  "metadata": {
    "colab": {
      "name": "practice_work.ipynb",
      "provenance": [],
      "mount_file_id": "1oNm30Xk1JK0OF6-HO8vaKzige6V1H33Q",
      "authorship_tag": "ABX9TyOg2XgKTHV1ACDv8br2MOuN",
      "include_colab_link": true
    },
    "kernelspec": {
      "name": "python3",
      "display_name": "Python 3"
    },
    "language_info": {
      "name": "python"
    }
  },
  "cells": [
    {
      "cell_type": "markdown",
      "metadata": {
        "id": "view-in-github",
        "colab_type": "text"
      },
      "source": [
        "<a href=\"https://colab.research.google.com/github/bas-ik/study_practise/blob/main/practice_work.ipynb\" target=\"_parent\"><img src=\"https://colab.research.google.com/assets/colab-badge.svg\" alt=\"Open In Colab\"/></a>"
      ]
    },
    {
      "cell_type": "code",
      "source": [
        "!pip install nltk\n",
        "!pip install pymorphy2\n",
        "!pip install nltk"
      ],
      "metadata": {
        "colab": {
          "base_uri": "https://localhost:8080/"
        },
        "id": "QoJ4QLpOTGlA",
        "outputId": "62b3bb07-50eb-4e40-8a7e-72bd8c376b0b"
      },
      "execution_count": 23,
      "outputs": [
        {
          "output_type": "stream",
          "name": "stdout",
          "text": [
            "Looking in indexes: https://pypi.org/simple, https://us-python.pkg.dev/colab-wheels/public/simple/\n",
            "Requirement already satisfied: nltk in /usr/local/lib/python3.7/dist-packages (3.2.5)\n",
            "Requirement already satisfied: six in /usr/local/lib/python3.7/dist-packages (from nltk) (1.15.0)\n",
            "Looking in indexes: https://pypi.org/simple, https://us-python.pkg.dev/colab-wheels/public/simple/\n",
            "Requirement already satisfied: pymorphy2 in /usr/local/lib/python3.7/dist-packages (0.9.1)\n",
            "Requirement already satisfied: docopt>=0.6 in /usr/local/lib/python3.7/dist-packages (from pymorphy2) (0.6.2)\n",
            "Requirement already satisfied: pymorphy2-dicts-ru<3.0,>=2.4 in /usr/local/lib/python3.7/dist-packages (from pymorphy2) (2.4.417127.4579844)\n",
            "Requirement already satisfied: dawg-python>=0.7.1 in /usr/local/lib/python3.7/dist-packages (from pymorphy2) (0.7.2)\n",
            "Looking in indexes: https://pypi.org/simple, https://us-python.pkg.dev/colab-wheels/public/simple/\n",
            "Requirement already satisfied: nltk in /usr/local/lib/python3.7/dist-packages (3.2.5)\n",
            "Requirement already satisfied: six in /usr/local/lib/python3.7/dist-packages (from nltk) (1.15.0)\n"
          ]
        }
      ]
    },
    {
      "cell_type": "markdown",
      "source": [
        ""
      ],
      "metadata": {
        "id": "fv-rr9ZAsHJf"
      }
    },
    {
      "cell_type": "code",
      "execution_count": 24,
      "metadata": {
        "id": "5zLt23gKXK8U"
      },
      "outputs": [],
      "source": [
        "import pandas as pd\n",
        "import numpy as np\n",
        "import re\n",
        "import nltk\n",
        "import matplotlib.pyplot as plt\n",
        "import warnings\n",
        "from nltk.corpus import stopwords\n",
        "from sklearn.feature_extraction.text import CountVectorizer\n",
        "from pymorphy2 import MorphAnalyzer\n",
        "from nltk.corpus import stopwords\n",
        "from sklearn.feature_extraction.text import TfidfVectorizer\n",
        "from sklearn.model_selection import train_test_split\n",
        "from sklearn.model_selection import GridSearchCV\n",
        "from sklearn.metrics import classification_report\n",
        "from sklearn.linear_model import LogisticRegression"
      ]
    },
    {
      "cell_type": "code",
      "source": [
        "pd.options.display.max_columns = 1000\n",
        "pd.options.display.max_colwidth = 1000\n",
        "\n",
        "\n",
        "np.random.seed(17)"
      ],
      "metadata": {
        "id": "cyZcmZwNejj3"
      },
      "execution_count": 25,
      "outputs": []
    },
    {
      "cell_type": "markdown",
      "source": [
        "### Data description\n",
        "\n",
        "\n",
        "\n",
        "1. – id: уникальный номер сообщения в системе twitter;\n",
        "2. – date: дата публикации сообщения (твита);\n",
        "3. – user_name: имя пользователя, опубликовавшего сообщение;\n",
        "4. – text: текст сообщения (твита);\n",
        "5. – target: поле в котором в дальнейшем будет указано к кому классу относится твит (положительный, отрицательный, нейтральный);\n",
        "6. – trep: количество реплаев к данному сообщению. В настоящий момент API твиттера не отдает эту информацию;\n",
        "7. – twits_count: количество ретвитов;\n",
        "8. – favorites_count: число сколько раз данное сообщение было добавлено в избранное другими пользователями;\n",
        "9. – user_twits_count: число всех сообщений пользователя в сети twitter;\n",
        "10. – fol_count: количество фоловеров пользователя (тех людей, которые читают пользователя);\n",
        "11. – friend_count: количество друзей пользователя (те люди, которых читает пользователь);\n",
        "12. – list_count: количество листов-подписок в которые добавлен твиттер-пользователь.\n"
      ],
      "metadata": {
        "id": "QxkTZT9aZcsQ"
      }
    },
    {
      "cell_type": "code",
      "source": [
        "cols = ['id', 'date', 'user_name', 'text', 'target', 'replay_count', 'twits_count','favorites_count', 'user_twits_count', 'fol_count', 'friend_count', 'list_count']\n",
        "\n",
        "df_pos = pd.read_csv(\"/content/drive/MyDrive/dataset_for_practice_work/positive.csv\", sep=';', header=None, names=cols, index_col='id')\n",
        "df_neg = pd.read_csv(\"/content/drive/MyDrive/dataset_for_practice_work/negative.csv\", sep=';', header=None, names=cols, index_col='id')"
      ],
      "metadata": {
        "id": "G_m0nqqVYMz5"
      },
      "execution_count": 26,
      "outputs": []
    },
    {
      "cell_type": "markdown",
      "source": [
        "#preprocessing"
      ],
      "metadata": {
        "id": "voO4aiDJBdmx"
      }
    },
    {
      "cell_type": "code",
      "source": [
        "# we need only text and target for classification\n",
        "\n",
        "df_pos.drop(['date', 'user_name', 'replay_count', 'twits_count','favorites_count', 'user_twits_count', 'fol_count', 'friend_count', 'list_count'], axis=1, inplace=True)\n",
        "df_neg.drop(['date', 'user_name', 'replay_count', 'twits_count','favorites_count', 'user_twits_count', 'fol_count', 'friend_count', 'list_count'], axis=1, inplace=True)\n",
        "\n",
        "# negative target is usually indicated by 0\n",
        "df_neg['target'] = 0\n",
        "\n",
        "# concat positive and negative df and drop duplicates to not overlearn model  \n",
        "df = df_pos.append(df_neg)\n",
        "df = df.dropna().drop_duplicates()"
      ],
      "metadata": {
        "id": "i2xSSp9LBm53"
      },
      "execution_count": 27,
      "outputs": []
    },
    {
      "cell_type": "code",
      "source": [
        "df.head(-5)"
      ],
      "metadata": {
        "colab": {
          "base_uri": "https://localhost:8080/",
          "height": 455
        },
        "id": "1uymUhSfBjes",
        "outputId": "645982f3-610f-4c23-cc04-137821db20d0"
      },
      "execution_count": 28,
      "outputs": [
        {
          "output_type": "execute_result",
          "data": {
            "text/plain": [
              "                                                                                                                                                            text  \\\n",
              "id                                                                                                                                                                 \n",
              "408906692374446080                                           @first_timee хоть я и школота, но поверь, у нас то же самое :D общество профилирующий предмет типа)   \n",
              "408906692693221377                                                                       Да, все-таки он немного похож на него. Но мой мальчик все равно лучше:D   \n",
              "408906695083954177                                                                                         RT @KatiaCheh: Ну ты идиотка) я испугалась за тебя!!!   \n",
              "408906695356973056  RT @digger2912: \"Кто то в углу сидит и погибает от голода, а мы ещё 2 порции взяли, хотя уже и так жрать не хотим\" :DD http://t.co/GqG6iuE2…   \n",
              "408906761416867842                @irina_dyshkant Вот что значит страшилка :D\\nНо блин,посмотрев все части,у тебя создастся ощущение,что авторы курили что-то :D   \n",
              "...                                                                                                                                                          ...   \n",
              "425137498151735296                                                           @ivanenko14 и у меня также, только будильник еще и не выключался.. папу разбудила (   \n",
              "425137763466633216                                                                                            Когда же я вернусь к тебе(( http://t.co/36qnCOGdXr   \n",
              "425137932283158528                                                       RT @qelasocadij: Скажите пожалуйста, как у человека может быть 1000 одноклассников? O_o   \n",
              "425137934443233281                                                                             У нас физ ра на улице\\nПака линт:(\\nЧерез 45 минут приду пхжааххв   \n",
              "425138035089358848                  Нас сегодня отказались принять в сад, типа мы плачем(( #королев пойду ругаться сейчас, по крайне мере выяснять, что за фигня   \n",
              "\n",
              "                    target  \n",
              "id                          \n",
              "408906692374446080       1  \n",
              "408906692693221377       1  \n",
              "408906695083954177       1  \n",
              "408906695356973056       1  \n",
              "408906761416867842       1  \n",
              "...                    ...  \n",
              "425137498151735296       0  \n",
              "425137763466633216       0  \n",
              "425137932283158528       0  \n",
              "425137934443233281       0  \n",
              "425138035089358848       0  \n",
              "\n",
              "[217435 rows x 2 columns]"
            ],
            "text/html": [
              "\n",
              "  <div id=\"df-01bb1805-abe8-4793-9240-a515ed07d010\">\n",
              "    <div class=\"colab-df-container\">\n",
              "      <div>\n",
              "<style scoped>\n",
              "    .dataframe tbody tr th:only-of-type {\n",
              "        vertical-align: middle;\n",
              "    }\n",
              "\n",
              "    .dataframe tbody tr th {\n",
              "        vertical-align: top;\n",
              "    }\n",
              "\n",
              "    .dataframe thead th {\n",
              "        text-align: right;\n",
              "    }\n",
              "</style>\n",
              "<table border=\"1\" class=\"dataframe\">\n",
              "  <thead>\n",
              "    <tr style=\"text-align: right;\">\n",
              "      <th></th>\n",
              "      <th>text</th>\n",
              "      <th>target</th>\n",
              "    </tr>\n",
              "    <tr>\n",
              "      <th>id</th>\n",
              "      <th></th>\n",
              "      <th></th>\n",
              "    </tr>\n",
              "  </thead>\n",
              "  <tbody>\n",
              "    <tr>\n",
              "      <th>408906692374446080</th>\n",
              "      <td>@first_timee хоть я и школота, но поверь, у нас то же самое :D общество профилирующий предмет типа)</td>\n",
              "      <td>1</td>\n",
              "    </tr>\n",
              "    <tr>\n",
              "      <th>408906692693221377</th>\n",
              "      <td>Да, все-таки он немного похож на него. Но мой мальчик все равно лучше:D</td>\n",
              "      <td>1</td>\n",
              "    </tr>\n",
              "    <tr>\n",
              "      <th>408906695083954177</th>\n",
              "      <td>RT @KatiaCheh: Ну ты идиотка) я испугалась за тебя!!!</td>\n",
              "      <td>1</td>\n",
              "    </tr>\n",
              "    <tr>\n",
              "      <th>408906695356973056</th>\n",
              "      <td>RT @digger2912: \"Кто то в углу сидит и погибает от голода, а мы ещё 2 порции взяли, хотя уже и так жрать не хотим\" :DD http://t.co/GqG6iuE2…</td>\n",
              "      <td>1</td>\n",
              "    </tr>\n",
              "    <tr>\n",
              "      <th>408906761416867842</th>\n",
              "      <td>@irina_dyshkant Вот что значит страшилка :D\\nНо блин,посмотрев все части,у тебя создастся ощущение,что авторы курили что-то :D</td>\n",
              "      <td>1</td>\n",
              "    </tr>\n",
              "    <tr>\n",
              "      <th>...</th>\n",
              "      <td>...</td>\n",
              "      <td>...</td>\n",
              "    </tr>\n",
              "    <tr>\n",
              "      <th>425137498151735296</th>\n",
              "      <td>@ivanenko14 и у меня также, только будильник еще и не выключался.. папу разбудила (</td>\n",
              "      <td>0</td>\n",
              "    </tr>\n",
              "    <tr>\n",
              "      <th>425137763466633216</th>\n",
              "      <td>Когда же я вернусь к тебе(( http://t.co/36qnCOGdXr</td>\n",
              "      <td>0</td>\n",
              "    </tr>\n",
              "    <tr>\n",
              "      <th>425137932283158528</th>\n",
              "      <td>RT @qelasocadij: Скажите пожалуйста, как у человека может быть 1000 одноклассников? O_o</td>\n",
              "      <td>0</td>\n",
              "    </tr>\n",
              "    <tr>\n",
              "      <th>425137934443233281</th>\n",
              "      <td>У нас физ ра на улице\\nПака линт:(\\nЧерез 45 минут приду пхжааххв</td>\n",
              "      <td>0</td>\n",
              "    </tr>\n",
              "    <tr>\n",
              "      <th>425138035089358848</th>\n",
              "      <td>Нас сегодня отказались принять в сад, типа мы плачем(( #королев пойду ругаться сейчас, по крайне мере выяснять, что за фигня</td>\n",
              "      <td>0</td>\n",
              "    </tr>\n",
              "  </tbody>\n",
              "</table>\n",
              "<p>217435 rows × 2 columns</p>\n",
              "</div>\n",
              "      <button class=\"colab-df-convert\" onclick=\"convertToInteractive('df-01bb1805-abe8-4793-9240-a515ed07d010')\"\n",
              "              title=\"Convert this dataframe to an interactive table.\"\n",
              "              style=\"display:none;\">\n",
              "        \n",
              "  <svg xmlns=\"http://www.w3.org/2000/svg\" height=\"24px\"viewBox=\"0 0 24 24\"\n",
              "       width=\"24px\">\n",
              "    <path d=\"M0 0h24v24H0V0z\" fill=\"none\"/>\n",
              "    <path d=\"M18.56 5.44l.94 2.06.94-2.06 2.06-.94-2.06-.94-.94-2.06-.94 2.06-2.06.94zm-11 1L8.5 8.5l.94-2.06 2.06-.94-2.06-.94L8.5 2.5l-.94 2.06-2.06.94zm10 10l.94 2.06.94-2.06 2.06-.94-2.06-.94-.94-2.06-.94 2.06-2.06.94z\"/><path d=\"M17.41 7.96l-1.37-1.37c-.4-.4-.92-.59-1.43-.59-.52 0-1.04.2-1.43.59L10.3 9.45l-7.72 7.72c-.78.78-.78 2.05 0 2.83L4 21.41c.39.39.9.59 1.41.59.51 0 1.02-.2 1.41-.59l7.78-7.78 2.81-2.81c.8-.78.8-2.07 0-2.86zM5.41 20L4 18.59l7.72-7.72 1.47 1.35L5.41 20z\"/>\n",
              "  </svg>\n",
              "      </button>\n",
              "      \n",
              "  <style>\n",
              "    .colab-df-container {\n",
              "      display:flex;\n",
              "      flex-wrap:wrap;\n",
              "      gap: 12px;\n",
              "    }\n",
              "\n",
              "    .colab-df-convert {\n",
              "      background-color: #E8F0FE;\n",
              "      border: none;\n",
              "      border-radius: 50%;\n",
              "      cursor: pointer;\n",
              "      display: none;\n",
              "      fill: #1967D2;\n",
              "      height: 32px;\n",
              "      padding: 0 0 0 0;\n",
              "      width: 32px;\n",
              "    }\n",
              "\n",
              "    .colab-df-convert:hover {\n",
              "      background-color: #E2EBFA;\n",
              "      box-shadow: 0px 1px 2px rgba(60, 64, 67, 0.3), 0px 1px 3px 1px rgba(60, 64, 67, 0.15);\n",
              "      fill: #174EA6;\n",
              "    }\n",
              "\n",
              "    [theme=dark] .colab-df-convert {\n",
              "      background-color: #3B4455;\n",
              "      fill: #D2E3FC;\n",
              "    }\n",
              "\n",
              "    [theme=dark] .colab-df-convert:hover {\n",
              "      background-color: #434B5C;\n",
              "      box-shadow: 0px 1px 3px 1px rgba(0, 0, 0, 0.15);\n",
              "      filter: drop-shadow(0px 1px 2px rgba(0, 0, 0, 0.3));\n",
              "      fill: #FFFFFF;\n",
              "    }\n",
              "  </style>\n",
              "\n",
              "      <script>\n",
              "        const buttonEl =\n",
              "          document.querySelector('#df-01bb1805-abe8-4793-9240-a515ed07d010 button.colab-df-convert');\n",
              "        buttonEl.style.display =\n",
              "          google.colab.kernel.accessAllowed ? 'block' : 'none';\n",
              "\n",
              "        async function convertToInteractive(key) {\n",
              "          const element = document.querySelector('#df-01bb1805-abe8-4793-9240-a515ed07d010');\n",
              "          const dataTable =\n",
              "            await google.colab.kernel.invokeFunction('convertToInteractive',\n",
              "                                                     [key], {});\n",
              "          if (!dataTable) return;\n",
              "\n",
              "          const docLinkHtml = 'Like what you see? Visit the ' +\n",
              "            '<a target=\"_blank\" href=https://colab.research.google.com/notebooks/data_table.ipynb>data table notebook</a>'\n",
              "            + ' to learn more about interactive tables.';\n",
              "          element.innerHTML = '';\n",
              "          dataTable['output_type'] = 'display_data';\n",
              "          await google.colab.output.renderOutput(dataTable, element);\n",
              "          const docLink = document.createElement('div');\n",
              "          docLink.innerHTML = docLinkHtml;\n",
              "          element.appendChild(docLink);\n",
              "        }\n",
              "      </script>\n",
              "    </div>\n",
              "  </div>\n",
              "  "
            ]
          },
          "metadata": {},
          "execution_count": 28
        }
      ]
    },
    {
      "cell_type": "code",
      "source": [
        "nltk.download('stopwords')"
      ],
      "metadata": {
        "colab": {
          "base_uri": "https://localhost:8080/"
        },
        "id": "unNhYPtyKLtg",
        "outputId": "0cc02744-0e5c-4eb5-9d13-2402cffeb6a3"
      },
      "execution_count": 29,
      "outputs": [
        {
          "output_type": "stream",
          "name": "stdout",
          "text": [
            "[nltk_data] Downloading package stopwords to /root/nltk_data...\n",
            "[nltk_data]   Package stopwords is already up-to-date!\n"
          ]
        },
        {
          "output_type": "execute_result",
          "data": {
            "text/plain": [
              "True"
            ]
          },
          "metadata": {},
          "execution_count": 29
        }
      ]
    },
    {
      "cell_type": "code",
      "source": [
        "patterns = \"[A-Za-z0-9!#$%&'()*+,./:;<=>?@[\\]^_`{|}~—\\\"\\-]+\"\n",
        "ru_stopwords = stopwords.words(\"russian\")\n",
        "morph = MorphAnalyzer()\n",
        "\n",
        "\n",
        "def clean_data(data):\n",
        "  data = re.sub(patterns, ' ', data)\n",
        "  tokens = []\n",
        "  for token in data.split():\n",
        "    # print(token)\n",
        "    if token and token not in ru_stopwords:\n",
        "      token = token.strip()\n",
        "      token = morph.normal_forms(token)[0]\n",
        "      tokens.append(token)\n",
        "  \n",
        "  return tokens"
      ],
      "metadata": {
        "id": "u6QKTQBDHSYW"
      },
      "execution_count": 30,
      "outputs": []
    },
    {
      "cell_type": "code",
      "source": [
        "data = df['text'].apply(clean_data)\n",
        "\n",
        "%time"
      ],
      "metadata": {
        "id": "fGMEl9F2KTVj",
        "colab": {
          "base_uri": "https://localhost:8080/"
        },
        "outputId": "edad5d64-7c17-4bd3-d14c-cb67ff75fb0f"
      },
      "execution_count": 32,
      "outputs": [
        {
          "output_type": "stream",
          "name": "stdout",
          "text": [
            "CPU times: user 2 µs, sys: 0 ns, total: 2 µs\n",
            "Wall time: 6.44 µs\n"
          ]
        }
      ]
    },
    {
      "cell_type": "code",
      "source": [
        "data['target'] = df['target']"
      ],
      "metadata": {
        "id": "iLW4yyD3g1HK"
      },
      "execution_count": 33,
      "outputs": []
    },
    {
      "cell_type": "code",
      "source": [
        "d = {\"text\": data, \"target\": df['target']}\n",
        "cleaned_df = pd.DataFrame(data=d)\n"
      ],
      "metadata": {
        "id": "qCZnhKpghPNh"
      },
      "execution_count": 34,
      "outputs": []
    },
    {
      "cell_type": "code",
      "source": [
        "cleaned_df = cleaned_df.dropna()\n",
        "cleaned_df['target'] = cleaned_df['target'].astype('int')"
      ],
      "metadata": {
        "id": "b-JCSsOlhO3p"
      },
      "execution_count": 35,
      "outputs": []
    },
    {
      "cell_type": "code",
      "source": [
        "cleaned_df['text'] = cleaned_df['text'].apply(lambda x: \" \".join(map(str, x)))"
      ],
      "metadata": {
        "id": "Cc070LKmaAdA"
      },
      "execution_count": 36,
      "outputs": []
    },
    {
      "cell_type": "code",
      "source": [
        "# удалим строки с пропущенными значениями\n",
        "cleaned_df.dropna(how='any', inplace=True);\n",
        "\n",
        "# проверим на наличие нулевых строк\n",
        "cleaned_df.isna().sum()"
      ],
      "metadata": {
        "colab": {
          "base_uri": "https://localhost:8080/"
        },
        "id": "Q6gxnchAop83",
        "outputId": "2fc620d0-e348-49ea-a7b8-e1dc0a1e9c29"
      },
      "execution_count": 37,
      "outputs": [
        {
          "output_type": "execute_result",
          "data": {
            "text/plain": [
              "text      0\n",
              "target    0\n",
              "dtype: int64"
            ]
          },
          "metadata": {},
          "execution_count": 37
        }
      ]
    },
    {
      "cell_type": "code",
      "source": [
        "# запишем обработанные данные, чтобы при каждом запуске колаба не ждать по 10 минут\n",
        "cleaned_df.to_csv('cleaned_data.csv', index=False)"
      ],
      "metadata": {
        "id": "msG7mScmrpGh"
      },
      "execution_count": 38,
      "outputs": []
    },
    {
      "cell_type": "markdown",
      "source": [
        "# read prepared data "
      ],
      "metadata": {
        "id": "Uy0Mmf3sKXy2"
      }
    },
    {
      "cell_type": "markdown",
      "source": [
        "### этот блок нужен только для загрузки ранее обработанных данных"
      ],
      "metadata": {
        "id": "Slvvn2fflJyQ"
      }
    },
    {
      "cell_type": "code",
      "source": [
        "cleaned_df = pd.read_csv('/content/drive/MyDrive/dataset_for_practice_work/cleaned_data.csv')\n",
        "cleaned_df.head()"
      ],
      "metadata": {
        "colab": {
          "base_uri": "https://localhost:8080/",
          "height": 206
        },
        "id": "PVrUJQgOKjQc",
        "outputId": "1cbd19fe-5b3c-41d4-a375-eb1302ad023e"
      },
      "execution_count": null,
      "outputs": [
        {
          "output_type": "execute_result",
          "data": {
            "text/plain": [
              "                                                                            text  \\\n",
              "0                       школотый поверь самый общество профилировать предмет тип   \n",
              "1                                       да таки немного похожий но мальчик равно   \n",
              "2                                                          ну идиотка испугаться   \n",
              "3            кто угол сидеть погибать голод ещё порция взять хотя жрать хотеть …   \n",
              "4  вот значит страшилка но блин посмотреть часть создаться ощущение автор курить   \n",
              "\n",
              "   target  \n",
              "0       1  \n",
              "1       1  \n",
              "2       1  \n",
              "3       1  \n",
              "4       1  "
            ],
            "text/html": [
              "\n",
              "  <div id=\"df-6d67a695-728e-4102-9d7e-2ad91b102680\">\n",
              "    <div class=\"colab-df-container\">\n",
              "      <div>\n",
              "<style scoped>\n",
              "    .dataframe tbody tr th:only-of-type {\n",
              "        vertical-align: middle;\n",
              "    }\n",
              "\n",
              "    .dataframe tbody tr th {\n",
              "        vertical-align: top;\n",
              "    }\n",
              "\n",
              "    .dataframe thead th {\n",
              "        text-align: right;\n",
              "    }\n",
              "</style>\n",
              "<table border=\"1\" class=\"dataframe\">\n",
              "  <thead>\n",
              "    <tr style=\"text-align: right;\">\n",
              "      <th></th>\n",
              "      <th>text</th>\n",
              "      <th>target</th>\n",
              "    </tr>\n",
              "  </thead>\n",
              "  <tbody>\n",
              "    <tr>\n",
              "      <th>0</th>\n",
              "      <td>школотый поверь самый общество профилировать предмет тип</td>\n",
              "      <td>1</td>\n",
              "    </tr>\n",
              "    <tr>\n",
              "      <th>1</th>\n",
              "      <td>да таки немного похожий но мальчик равно</td>\n",
              "      <td>1</td>\n",
              "    </tr>\n",
              "    <tr>\n",
              "      <th>2</th>\n",
              "      <td>ну идиотка испугаться</td>\n",
              "      <td>1</td>\n",
              "    </tr>\n",
              "    <tr>\n",
              "      <th>3</th>\n",
              "      <td>кто угол сидеть погибать голод ещё порция взять хотя жрать хотеть …</td>\n",
              "      <td>1</td>\n",
              "    </tr>\n",
              "    <tr>\n",
              "      <th>4</th>\n",
              "      <td>вот значит страшилка но блин посмотреть часть создаться ощущение автор курить</td>\n",
              "      <td>1</td>\n",
              "    </tr>\n",
              "  </tbody>\n",
              "</table>\n",
              "</div>\n",
              "      <button class=\"colab-df-convert\" onclick=\"convertToInteractive('df-6d67a695-728e-4102-9d7e-2ad91b102680')\"\n",
              "              title=\"Convert this dataframe to an interactive table.\"\n",
              "              style=\"display:none;\">\n",
              "        \n",
              "  <svg xmlns=\"http://www.w3.org/2000/svg\" height=\"24px\"viewBox=\"0 0 24 24\"\n",
              "       width=\"24px\">\n",
              "    <path d=\"M0 0h24v24H0V0z\" fill=\"none\"/>\n",
              "    <path d=\"M18.56 5.44l.94 2.06.94-2.06 2.06-.94-2.06-.94-.94-2.06-.94 2.06-2.06.94zm-11 1L8.5 8.5l.94-2.06 2.06-.94-2.06-.94L8.5 2.5l-.94 2.06-2.06.94zm10 10l.94 2.06.94-2.06 2.06-.94-2.06-.94-.94-2.06-.94 2.06-2.06.94z\"/><path d=\"M17.41 7.96l-1.37-1.37c-.4-.4-.92-.59-1.43-.59-.52 0-1.04.2-1.43.59L10.3 9.45l-7.72 7.72c-.78.78-.78 2.05 0 2.83L4 21.41c.39.39.9.59 1.41.59.51 0 1.02-.2 1.41-.59l7.78-7.78 2.81-2.81c.8-.78.8-2.07 0-2.86zM5.41 20L4 18.59l7.72-7.72 1.47 1.35L5.41 20z\"/>\n",
              "  </svg>\n",
              "      </button>\n",
              "      \n",
              "  <style>\n",
              "    .colab-df-container {\n",
              "      display:flex;\n",
              "      flex-wrap:wrap;\n",
              "      gap: 12px;\n",
              "    }\n",
              "\n",
              "    .colab-df-convert {\n",
              "      background-color: #E8F0FE;\n",
              "      border: none;\n",
              "      border-radius: 50%;\n",
              "      cursor: pointer;\n",
              "      display: none;\n",
              "      fill: #1967D2;\n",
              "      height: 32px;\n",
              "      padding: 0 0 0 0;\n",
              "      width: 32px;\n",
              "    }\n",
              "\n",
              "    .colab-df-convert:hover {\n",
              "      background-color: #E2EBFA;\n",
              "      box-shadow: 0px 1px 2px rgba(60, 64, 67, 0.3), 0px 1px 3px 1px rgba(60, 64, 67, 0.15);\n",
              "      fill: #174EA6;\n",
              "    }\n",
              "\n",
              "    [theme=dark] .colab-df-convert {\n",
              "      background-color: #3B4455;\n",
              "      fill: #D2E3FC;\n",
              "    }\n",
              "\n",
              "    [theme=dark] .colab-df-convert:hover {\n",
              "      background-color: #434B5C;\n",
              "      box-shadow: 0px 1px 3px 1px rgba(0, 0, 0, 0.15);\n",
              "      filter: drop-shadow(0px 1px 2px rgba(0, 0, 0, 0.3));\n",
              "      fill: #FFFFFF;\n",
              "    }\n",
              "  </style>\n",
              "\n",
              "      <script>\n",
              "        const buttonEl =\n",
              "          document.querySelector('#df-6d67a695-728e-4102-9d7e-2ad91b102680 button.colab-df-convert');\n",
              "        buttonEl.style.display =\n",
              "          google.colab.kernel.accessAllowed ? 'block' : 'none';\n",
              "\n",
              "        async function convertToInteractive(key) {\n",
              "          const element = document.querySelector('#df-6d67a695-728e-4102-9d7e-2ad91b102680');\n",
              "          const dataTable =\n",
              "            await google.colab.kernel.invokeFunction('convertToInteractive',\n",
              "                                                     [key], {});\n",
              "          if (!dataTable) return;\n",
              "\n",
              "          const docLinkHtml = 'Like what you see? Visit the ' +\n",
              "            '<a target=\"_blank\" href=https://colab.research.google.com/notebooks/data_table.ipynb>data table notebook</a>'\n",
              "            + ' to learn more about interactive tables.';\n",
              "          element.innerHTML = '';\n",
              "          dataTable['output_type'] = 'display_data';\n",
              "          await google.colab.output.renderOutput(dataTable, element);\n",
              "          const docLink = document.createElement('div');\n",
              "          docLink.innerHTML = docLinkHtml;\n",
              "          element.appendChild(docLink);\n",
              "        }\n",
              "      </script>\n",
              "    </div>\n",
              "  </div>\n",
              "  "
            ]
          },
          "metadata": {},
          "execution_count": 4
        }
      ]
    },
    {
      "cell_type": "code",
      "source": [
        "cleaned_df['text'] = cleaned_df['text'].astype('List')\n",
        "cleaned_df.dtypes"
      ],
      "metadata": {
        "id": "pdjQfmJtU96G"
      },
      "execution_count": null,
      "outputs": []
    },
    {
      "cell_type": "markdown",
      "source": [
        "# vectorization and training"
      ],
      "metadata": {
        "id": "CGPkxErIndwo"
      }
    },
    {
      "cell_type": "code",
      "source": [
        "def tfidf_LogReg(X_train, X_test, y_train, y_test):\n",
        "  vectorizer = TfidfVectorizer()\n",
        "\n",
        "  tf_x_train = vectorizer.fit_transform(X_train)\n",
        "  tf_x_test = vectorizer.transform(X_test)\n",
        "\n",
        "\n",
        "  logreg = LogisticRegression(penalty='l2', solver='newton-cg', C=1)\n",
        "  logreg.fit(tf_x_train, y_train)\n",
        "  y_test_pred = logreg.predict(tf_x_test)\n",
        "  report=classification_report(y_test, y_test_pred, output_dict=True)\n",
        "  return report['macro avg']['f1-score']\n"
      ],
      "metadata": {
        "id": "JRwdxHOk0Y_n"
      },
      "execution_count": 39,
      "outputs": []
    },
    {
      "cell_type": "code",
      "source": [
        "def BOW_LogReg(X_train, X_test, y_train, y_test, n_gram=1):\n",
        "  vectorizer = CountVectorizer(ngram_range=(n_gram, n_gram))\n",
        "\n",
        "  tf_x_train = vectorizer.fit_transform(X_train)\n",
        "  tf_x_test = vectorizer.transform(X_test)\n",
        "\n",
        "\n",
        "  logreg = LogisticRegression(penalty='l2', solver='newton-cg', C=1)\n",
        "  logreg.fit(tf_x_train, y_train)\n",
        "  y_test_pred = logreg.predict(tf_x_test)\n",
        "  report=classification_report(y_test, y_test_pred, output_dict=True)\n",
        "  return report['macro avg']['f1-score']\n"
      ],
      "metadata": {
        "id": "P0gyEUM7wlPc"
      },
      "execution_count": 40,
      "outputs": []
    },
    {
      "cell_type": "code",
      "source": [
        "X_train, X_test, y_train, y_test = train_test_split(cleaned_df['text'], cleaned_df['target'], test_size=0.3, random_state=17)\n",
        "\n",
        "BOW_res_1 = BOW_LogReg(X_train, X_test, y_train, y_test, 1)\n",
        "BOW_res_2 = BOW_LogReg(X_train, X_test, y_train, y_test, 2)\n",
        "BOW_res_3 = BOW_LogReg(X_train, X_test, y_train, y_test, 3)\n",
        "tfidf_res = tfidf_LogReg(X_train, X_test, y_train, y_test)"
      ],
      "metadata": {
        "id": "ftkIPSP06f7r"
      },
      "execution_count": 41,
      "outputs": []
    },
    {
      "cell_type": "code",
      "source": [
        "primary_result = (BOW_res_1, BOW_res_2, BOW_res_3, tfidf_res)"
      ],
      "metadata": {
        "id": "o4qyAaI96u2M"
      },
      "execution_count": 42,
      "outputs": []
    },
    {
      "cell_type": "code",
      "source": [
        "primary_result\n",
        "print(f\"BOW-1: {primary_result[0]}\\nBOW-2: {primary_result[1]}\\nBOW-3: {primary_result[2]}\\nTF-IDF: {primary_result[3]}\")"
      ],
      "metadata": {
        "colab": {
          "base_uri": "https://localhost:8080/"
        },
        "id": "87Lhs7thv81F",
        "outputId": "ce0f910b-eb57-4a85-ac1d-250451475c9d"
      },
      "execution_count": 43,
      "outputs": [
        {
          "output_type": "stream",
          "name": "stdout",
          "text": [
            "BOW-1: 0.7152191969366974\n",
            "BOW-2: 0.6337810220904445\n",
            "BOW-3: 0.44242587283308876\n",
            "TF-IDF: 0.7175604833247469\n"
          ]
        }
      ]
    },
    {
      "cell_type": "markdown",
      "source": [
        "| *vectorization type*  | *f1-score* |\n",
        "| ------------- | ------------- |\n",
        "| bag of words 1-gram  | **0.7152191969366974**  |\n",
        "| bag of words 2-gram  | **0.6337810220904445**  |\n",
        "| bag of words 1-gram  | **0.44242587283308876**  |\n",
        "| tf-idf| **0.7175604833247469** |"
      ],
      "metadata": {
        "id": "PJlqHNdZmJXL"
      }
    },
    {
      "cell_type": "code",
      "source": [
        ""
      ],
      "metadata": {
        "id": "y25dOowxmZMn"
      },
      "execution_count": null,
      "outputs": []
    }
  ]
}